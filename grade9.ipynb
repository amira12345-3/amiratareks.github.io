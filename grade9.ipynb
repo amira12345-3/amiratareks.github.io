{
  "nbformat": 4,
  "nbformat_minor": 0,
  "metadata": {
    "colab": {
      "provenance": [],
      "authorship_tag": "ABX9TyMBVWu6oJXGohzvoy4LAwkl",
      "include_colab_link": true
    },
    "kernelspec": {
      "name": "python3",
      "display_name": "Python 3"
    },
    "language_info": {
      "name": "python"
    }
  },
  "cells": [
    {
      "cell_type": "markdown",
      "metadata": {
        "id": "view-in-github",
        "colab_type": "text"
      },
      "source": [
        "<a href=\"https://colab.research.google.com/github/amira12345-3/amiratareks.github.io/blob/main/grade9.ipynb\" target=\"_parent\"><img src=\"https://colab.research.google.com/assets/colab-badge.svg\" alt=\"Open In Colab\"/></a>"
      ]
    },
    {
      "cell_type": "code",
      "execution_count": 1,
      "metadata": {
        "id": "vF245uT0wNC3"
      },
      "outputs": [],
      "source": [
        "!pip -q install pandas scikit-learn gradio joblib openpyxl\n"
      ]
    },
    {
      "cell_type": "code",
      "source": [
        "from google.colab import files\n",
        "import io, pandas as pd, os\n",
        "\n",
        "print(\"➡️ Click 'Choose Files' and upload your Excel (.xlsx/.xls) or CSV.\")\n",
        "uploaded = files.upload()\n",
        "\n",
        "# Use the first uploaded file\n",
        "fname = next(iter(uploaded))\n",
        "ext = os.path.splitext(fname)[1].lower()\n",
        "\n",
        "if ext in [\".xlsx\", \".xls\"]:\n",
        "    df = pd.read_excel(io.BytesIO(uploaded[fname]))\n",
        "elif ext == \".csv\":\n",
        "    # Try utf-8 first, fall back to latin-1 if needed\n",
        "    try:\n",
        "        df = pd.read_csv(io.BytesIO(uploaded[fname]))\n",
        "    except UnicodeDecodeError:\n",
        "        df = pd.read_csv(io.BytesIO(uploaded[fname]), encoding=\"latin-1\")\n",
        "else:\n",
        "    raise ValueError(\"Please upload a .csv, .xlsx, or .xls file.\")\n",
        "\n",
        "print(\"✅ Loaded shape:\", df.shape)\n",
        "df.head(3)\n"
      ],
      "metadata": {
        "id": "vphyjPwIwVuL",
        "colab": {
          "base_uri": "https://localhost:8080/",
          "height": 56
        },
        "outputId": "d5644345-5b60-438a-aff5-d5b625ec1f52"
      },
      "execution_count": null,
      "outputs": [
        {
          "output_type": "stream",
          "name": "stdout",
          "text": [
            "➡️ Click 'Choose Files' and upload your Excel (.xlsx/.xls) or CSV.\n"
          ]
        },
        {
          "output_type": "display_data",
          "data": {
            "text/plain": [
              "<IPython.core.display.HTML object>"
            ],
            "text/html": [
              "\n",
              "     <input type=\"file\" id=\"files-636a8a5c-8054-47c1-8173-31556c2edce1\" name=\"files[]\" multiple disabled\n",
              "        style=\"border:none\" />\n",
              "     <output id=\"result-636a8a5c-8054-47c1-8173-31556c2edce1\">\n",
              "      Upload widget is only available when the cell has been executed in the\n",
              "      current browser session. Please rerun this cell to enable.\n",
              "      </output>\n",
              "      <script>// Copyright 2017 Google LLC\n",
              "//\n",
              "// Licensed under the Apache License, Version 2.0 (the \"License\");\n",
              "// you may not use this file except in compliance with the License.\n",
              "// You may obtain a copy of the License at\n",
              "//\n",
              "//      http://www.apache.org/licenses/LICENSE-2.0\n",
              "//\n",
              "// Unless required by applicable law or agreed to in writing, software\n",
              "// distributed under the License is distributed on an \"AS IS\" BASIS,\n",
              "// WITHOUT WARRANTIES OR CONDITIONS OF ANY KIND, either express or implied.\n",
              "// See the License for the specific language governing permissions and\n",
              "// limitations under the License.\n",
              "\n",
              "/**\n",
              " * @fileoverview Helpers for google.colab Python module.\n",
              " */\n",
              "(function(scope) {\n",
              "function span(text, styleAttributes = {}) {\n",
              "  const element = document.createElement('span');\n",
              "  element.textContent = text;\n",
              "  for (const key of Object.keys(styleAttributes)) {\n",
              "    element.style[key] = styleAttributes[key];\n",
              "  }\n",
              "  return element;\n",
              "}\n",
              "\n",
              "// Max number of bytes which will be uploaded at a time.\n",
              "const MAX_PAYLOAD_SIZE = 100 * 1024;\n",
              "\n",
              "function _uploadFiles(inputId, outputId) {\n",
              "  const steps = uploadFilesStep(inputId, outputId);\n",
              "  const outputElement = document.getElementById(outputId);\n",
              "  // Cache steps on the outputElement to make it available for the next call\n",
              "  // to uploadFilesContinue from Python.\n",
              "  outputElement.steps = steps;\n",
              "\n",
              "  return _uploadFilesContinue(outputId);\n",
              "}\n",
              "\n",
              "// This is roughly an async generator (not supported in the browser yet),\n",
              "// where there are multiple asynchronous steps and the Python side is going\n",
              "// to poll for completion of each step.\n",
              "// This uses a Promise to block the python side on completion of each step,\n",
              "// then passes the result of the previous step as the input to the next step.\n",
              "function _uploadFilesContinue(outputId) {\n",
              "  const outputElement = document.getElementById(outputId);\n",
              "  const steps = outputElement.steps;\n",
              "\n",
              "  const next = steps.next(outputElement.lastPromiseValue);\n",
              "  return Promise.resolve(next.value.promise).then((value) => {\n",
              "    // Cache the last promise value to make it available to the next\n",
              "    // step of the generator.\n",
              "    outputElement.lastPromiseValue = value;\n",
              "    return next.value.response;\n",
              "  });\n",
              "}\n",
              "\n",
              "/**\n",
              " * Generator function which is called between each async step of the upload\n",
              " * process.\n",
              " * @param {string} inputId Element ID of the input file picker element.\n",
              " * @param {string} outputId Element ID of the output display.\n",
              " * @return {!Iterable<!Object>} Iterable of next steps.\n",
              " */\n",
              "function* uploadFilesStep(inputId, outputId) {\n",
              "  const inputElement = document.getElementById(inputId);\n",
              "  inputElement.disabled = false;\n",
              "\n",
              "  const outputElement = document.getElementById(outputId);\n",
              "  outputElement.innerHTML = '';\n",
              "\n",
              "  const pickedPromise = new Promise((resolve) => {\n",
              "    inputElement.addEventListener('change', (e) => {\n",
              "      resolve(e.target.files);\n",
              "    });\n",
              "  });\n",
              "\n",
              "  const cancel = document.createElement('button');\n",
              "  inputElement.parentElement.appendChild(cancel);\n",
              "  cancel.textContent = 'Cancel upload';\n",
              "  const cancelPromise = new Promise((resolve) => {\n",
              "    cancel.onclick = () => {\n",
              "      resolve(null);\n",
              "    };\n",
              "  });\n",
              "\n",
              "  // Wait for the user to pick the files.\n",
              "  const files = yield {\n",
              "    promise: Promise.race([pickedPromise, cancelPromise]),\n",
              "    response: {\n",
              "      action: 'starting',\n",
              "    }\n",
              "  };\n",
              "\n",
              "  cancel.remove();\n",
              "\n",
              "  // Disable the input element since further picks are not allowed.\n",
              "  inputElement.disabled = true;\n",
              "\n",
              "  if (!files) {\n",
              "    return {\n",
              "      response: {\n",
              "        action: 'complete',\n",
              "      }\n",
              "    };\n",
              "  }\n",
              "\n",
              "  for (const file of files) {\n",
              "    const li = document.createElement('li');\n",
              "    li.append(span(file.name, {fontWeight: 'bold'}));\n",
              "    li.append(span(\n",
              "        `(${file.type || 'n/a'}) - ${file.size} bytes, ` +\n",
              "        `last modified: ${\n",
              "            file.lastModifiedDate ? file.lastModifiedDate.toLocaleDateString() :\n",
              "                                    'n/a'} - `));\n",
              "    const percent = span('0% done');\n",
              "    li.appendChild(percent);\n",
              "\n",
              "    outputElement.appendChild(li);\n",
              "\n",
              "    const fileDataPromise = new Promise((resolve) => {\n",
              "      const reader = new FileReader();\n",
              "      reader.onload = (e) => {\n",
              "        resolve(e.target.result);\n",
              "      };\n",
              "      reader.readAsArrayBuffer(file);\n",
              "    });\n",
              "    // Wait for the data to be ready.\n",
              "    let fileData = yield {\n",
              "      promise: fileDataPromise,\n",
              "      response: {\n",
              "        action: 'continue',\n",
              "      }\n",
              "    };\n",
              "\n",
              "    // Use a chunked sending to avoid message size limits. See b/62115660.\n",
              "    let position = 0;\n",
              "    do {\n",
              "      const length = Math.min(fileData.byteLength - position, MAX_PAYLOAD_SIZE);\n",
              "      const chunk = new Uint8Array(fileData, position, length);\n",
              "      position += length;\n",
              "\n",
              "      const base64 = btoa(String.fromCharCode.apply(null, chunk));\n",
              "      yield {\n",
              "        response: {\n",
              "          action: 'append',\n",
              "          file: file.name,\n",
              "          data: base64,\n",
              "        },\n",
              "      };\n",
              "\n",
              "      let percentDone = fileData.byteLength === 0 ?\n",
              "          100 :\n",
              "          Math.round((position / fileData.byteLength) * 100);\n",
              "      percent.textContent = `${percentDone}% done`;\n",
              "\n",
              "    } while (position < fileData.byteLength);\n",
              "  }\n",
              "\n",
              "  // All done.\n",
              "  yield {\n",
              "    response: {\n",
              "      action: 'complete',\n",
              "    }\n",
              "  };\n",
              "}\n",
              "\n",
              "scope.google = scope.google || {};\n",
              "scope.google.colab = scope.google.colab || {};\n",
              "scope.google.colab._files = {\n",
              "  _uploadFiles,\n",
              "  _uploadFilesContinue,\n",
              "};\n",
              "})(self);\n",
              "</script> "
            ]
          },
          "metadata": {}
        }
      ]
    },
    {
      "cell_type": "code",
      "source": [
        "TARGET = \"Future Job\"   # <-- change to your target column name\n",
        "\n",
        "assert TARGET in df.columns, f\"TARGET '{TARGET}' not found. Columns: {list(df.columns)}\"\n",
        "X = df.drop(columns=[TARGET]).copy()\n",
        "y = df[TARGET].copy()\n",
        "\n",
        "print(\"Features:\", list(X.columns))\n",
        "print(\"Target:\", TARGET)\n",
        "print(\"Rows:\", len(df))"
      ],
      "metadata": {
        "id": "-_qCWgyTwXRq",
        "colab": {
          "base_uri": "https://localhost:8080/"
        },
        "outputId": "a320086d-37bc-4249-dfa4-26476920cdcd"
      },
      "execution_count": null,
      "outputs": [
        {
          "output_type": "stream",
          "name": "stdout",
          "text": [
            "Features: ['ID', 'Zodic Sign', 'Nationality', 'Games', 'Personal Interests', 'Height ', 'Personality', 'Hobbies', 'Age']\n",
            "Target: Future Job\n",
            "Rows: 1\n"
          ]
        }
      ]
    },
    {
      "cell_type": "code",
      "source": [
        "import numpy as np\n",
        "from sklearn.model_selection import train_test_split\n",
        "from sklearn.preprocessing import OneHotEncoder\n",
        "from sklearn.compose import ColumnTransformer\n",
        "from sklearn.pipeline import Pipeline\n",
        "from sklearn.metrics import accuracy_score, f1_score, roc_auc_score\n",
        "from sklearn.metrics import mean_squared_error, r2_score\n",
        "from sklearn.ensemble import RandomForestClassifier, RandomForestRegressor\n",
        "import joblib\n",
        "\n",
        "# Define X and y within this cell\n",
        "TARGET = \"Future Job\"   # <-- change to your target column name\n",
        "\n",
        "assert TARGET in df.columns, f\"TARGET '{TARGET}' not found. Columns: {list(df.columns)}\"\n",
        "X = df.drop(columns=[TARGET]).copy()\n",
        "y = df[TARGET].copy()\n",
        "\n",
        "\n",
        "# Heuristic: numeric target with many unique values -> regression; else classification\n",
        "is_numeric_target = np.issubdtype(y.dtype, np.number)\n",
        "unique_ratio = y.nunique() / max(1, len(y))\n",
        "task = \"regression\" if (is_numeric_target and unique_ratio > 0.05) else \"classification\"\n",
        "print(\"🧠 Detected task:\", task)\n",
        "\n",
        "num_cols = X.select_dtypes(include=[\"number\"]).columns.tolist()\n",
        "cat_cols = X.select_dtypes(exclude=[\"number\"]).columns.tolist()\n",
        "\n",
        "pre = ColumnTransformer([\n",
        "    (\"num\", \"passthrough\", num_cols),\n",
        "    (\"cat\", OneHotEncoder(handle_unknown=\"ignore\"), cat_cols)\n",
        "], remainder=\"drop\")\n",
        "\n",
        "if task == \"classification\":\n",
        "    model = RandomForestClassifier(n_estimators=400, random_state=42, n_jobs=-1)\n",
        "else:\n",
        "    model = RandomForestRegressor(n_estimators=400, random_state=42, n_jobs=-1)\n",
        "\n",
        "pipe = Pipeline([(\"prep\", pre), (\"model\", model)])\n",
        "\n",
        "# Fit on the entire dataset regardless of the number of samples\n",
        "pipe.fit(X, y)\n",
        "\n",
        "# Evaluation metrics are not meaningful with a single sample\n",
        "if len(df) <= 1:\n",
        "    print(\"⚠️ Skipping evaluation due to single sample.\")\n",
        "else:\n",
        "    # You would typically split into train/test sets here and evaluate\n",
        "    print(\"✅ Model trained.\")\n",
        "\n",
        "\n",
        "# Save model + metadata\n",
        "joblib.dump({\n",
        "    \"pipeline\": pipe,\n",
        "    \"task\": task,\n",
        "    \"feature_names\": X.columns.tolist(),\n",
        "    \"num_cols\": num_cols,\n",
        "    \"cat_cols\": cat_cols,\n",
        "    \"target\": TARGET,\n",
        "}, \"excel_model.joblib\")\n",
        "print(\"💾 Saved to excel_model.joblib\")"
      ],
      "metadata": {
        "colab": {
          "base_uri": "https://localhost:8080/"
        },
        "id": "lWTGPoL2waD-",
        "outputId": "e9e024cb-2de3-4f39-b3d1-47aac6852b68"
      },
      "execution_count": null,
      "outputs": [
        {
          "output_type": "stream",
          "name": "stdout",
          "text": [
            "🧠 Detected task: classification\n",
            "⚠️ Skipping evaluation due to single sample.\n",
            "💾 Saved to excel_model.joblib\n"
          ]
        }
      ]
    },
    {
      "cell_type": "code",
      "source": [
        "import gradio as gr, joblib\n",
        "import pandas as pd\n",
        "meta = joblib.load(\"excel_model.joblib\")\n",
        "pipe = meta[\"pipeline\"]\n",
        "feature_names = meta[\"feature_names\"]\n",
        "num_cols, cat_cols = meta[\"num_cols\"], meta[\"cat_cols\"]\n",
        "task = meta[\"task\"]\n",
        "\n",
        "def predict_row(*vals):\n",
        "    row = pd.DataFrame([dict(zip(feature_names, vals))])\n",
        "    out = pipe.predict(row)[0]\n",
        "    if task == \"classification\":\n",
        "        # If proba exists, add it\n",
        "        proba_txt = \"\"\n",
        "        if hasattr(pipe[-1], \"predict_proba\"):\n",
        "            try:\n",
        "                p = pipe.predict_proba(row)\n",
        "                # Handle binary or multi-class\n",
        "                proba_txt = f\" | Probabilities: {p[0].round(3).tolist()}\"\n",
        "            except Exception:\n",
        "                pass\n",
        "        return f\"Prediction: {out}{proba_txt}\"\n",
        "    else:\n",
        "        return f\"Prediction (numeric): {out}\"\n",
        "\n",
        "inputs = []\n",
        "for c in feature_names:\n",
        "    if c in num_cols:\n",
        "        inputs.append(gr.Number(label=c))\n",
        "    else:\n",
        "        inputs.append(gr.Textbox(label=c, placeholder=\"text/category\"))\n",
        "\n",
        "demo = gr.Interface(fn=predict_row, inputs=inputs, outputs=\"text\",\n",
        "                    title=\"Excel → AI Predictor\",\n",
        "                    description=f\"Task: {task.upper()} | Target: {meta['target']}\")\n",
        "\n",
        "demo.launch(share=True)\n"
      ],
      "metadata": {
        "colab": {
          "base_uri": "https://localhost:8080/",
          "height": 610
        },
        "id": "cLZUIcGywcq1",
        "outputId": "f10f4b90-8ebf-42bc-e282-f8bfc8a89a28"
      },
      "execution_count": null,
      "outputs": [
        {
          "output_type": "stream",
          "name": "stdout",
          "text": [
            "Colab notebook detected. To show errors in colab notebook, set debug=True in launch()\n",
            "* Running on public URL: https://0042e3319e42408f42.gradio.live\n",
            "\n",
            "This share link expires in 1 week. For free permanent hosting and GPU upgrades, run `gradio deploy` from the terminal in the working directory to deploy to Hugging Face Spaces (https://huggingface.co/spaces)\n"
          ]
        },
        {
          "output_type": "display_data",
          "data": {
            "text/plain": [
              "<IPython.core.display.HTML object>"
            ],
            "text/html": [
              "<div><iframe src=\"https://0042e3319e42408f42.gradio.live\" width=\"100%\" height=\"500\" allow=\"autoplay; camera; microphone; clipboard-read; clipboard-write;\" frameborder=\"0\" allowfullscreen></iframe></div>"
            ]
          },
          "metadata": {}
        },
        {
          "output_type": "execute_result",
          "data": {
            "text/plain": []
          },
          "metadata": {},
          "execution_count": 5
        }
      ]
    }
  ]
}